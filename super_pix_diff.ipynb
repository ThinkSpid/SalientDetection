{
 "nbformat": 4,
 "nbformat_minor": 0,
 "metadata": {
  "colab": {
   "name": "super_pix_diff.ipynb",
   "provenance": [],
   "collapsed_sections": [],
   "include_colab_link": true
  },
  "kernelspec": {
   "name": "python3",
   "display_name": "Python 3"
  },
  "pycharm": {
   "stem_cell": {
    "cell_type": "raw",
    "source": [],
    "metadata": {
     "collapsed": false
    }
   }
  }
 },
 "cells": [
  {
   "cell_type": "markdown",
   "metadata": {
    "id": "view-in-github",
    "colab_type": "text"
   },
   "source": [
    "<a href=\"https://colab.research.google.com/github/ThinkSpid/SalientDetection/blob/master/super_pix_diff.ipynb\" target=\"_parent\"><img src=\"https://colab.research.google.com/assets/colab-badge.svg\" alt=\"Open In Colab\"/></a>"
   ]
  },
  {
   "cell_type": "code",
   "metadata": {
    "id": "y8vtfT-uc2QI",
    "colab_type": "code",
    "colab": {
     "base_uri": "https://localhost:8080/",
     "height": 323
    },
    "outputId": "3cc21d9d-1b6b-4e03-b6b7-3bcda5cceb23",
    "pycharm": {
     "is_executing": false
    }
   },
   "source": [
    "!pip3 install dippykit\n",
    "!pip3 install -q matplotlib-venn"
   ],
   "execution_count": 2,
   "outputs": [
    {
     "name": "stdout",
     "text": [
      "Requirement already satisfied: dippykit in /usr/local/lib/python3.7/site-packages (2.0.2)\r\nRequirement already satisfied: scikit-image in /usr/local/lib/python3.7/site-packages (from dippykit) (0.16.1)\r\nRequirement already satisfied: numpy in /usr/local/lib/python3.7/site-packages (from dippykit) (1.17.2)\r\n",
      "Requirement already satisfied: Pillow in /usr/local/lib/python3.7/site-packages (from dippykit) (6.2.0)\r\nRequirement already satisfied: scipy in /usr/local/lib/python3.7/site-packages (from dippykit) (1.3.1)\r\nRequirement already satisfied: opencv-python in /usr/local/lib/python3.7/site-packages (from dippykit) (4.1.1.26)\r\nRequirement already satisfied: matplotlib in /usr/local/lib/python3.7/site-packages (from dippykit) (3.1.1)\r\nRequirement already satisfied: networkx>=2.0 in /usr/local/lib/python3.7/site-packages (from scikit-image->dippykit) (2.3)\r\n",
      "Requirement already satisfied: imageio>=2.3.0 in /usr/local/lib/python3.7/site-packages (from scikit-image->dippykit) (2.6.1)\r\n",
      "Requirement already satisfied: PyWavelets>=0.4.0 in /usr/local/lib/python3.7/site-packages (from scikit-image->dippykit) (1.0.3)\r\nRequirement already satisfied: kiwisolver>=1.0.1 in /usr/local/lib/python3.7/site-packages (from matplotlib->dippykit) (1.1.0)\r\nRequirement already satisfied: cycler>=0.10 in /usr/local/lib/python3.7/site-packages (from matplotlib->dippykit) (0.10.0)\r\nRequirement already satisfied: pyparsing!=2.0.4,!=2.1.2,!=2.1.6,>=2.0.1 in /usr/local/lib/python3.7/site-packages (from matplotlib->dippykit) (2.4.2)\r\nRequirement already satisfied: python-dateutil>=2.1 in /usr/local/lib/python3.7/site-packages (from matplotlib->dippykit) (2.8.0)\r\nRequirement already satisfied: decorator>=4.3.0 in /usr/local/lib/python3.7/site-packages (from networkx>=2.0->scikit-image->dippykit) (4.4.0)\r\nRequirement already satisfied: setuptools in /usr/local/lib/python3.7/site-packages (from kiwisolver>=1.0.1->matplotlib->dippykit) (41.4.0)\r\nRequirement already satisfied: six in /usr/local/lib/python3.7/site-packages (from cycler>=0.10->matplotlib->dippykit) (1.12.0)\r\n"
     ],
     "output_type": "stream"
    }
   ]
  },
  {
   "cell_type": "code",
   "metadata": {
    "id": "HW9buy3LsYpU",
    "colab_type": "code",
    "colab": {
     "base_uri": "https://localhost:8080/",
     "height": 357
    },
    "outputId": "edc9ea67-69f7-4de4-b8ce-dc4415c89cc9",
    "pycharm": {
     "is_executing": false
    }
   },
   "source": [
    "!pip3 show dippykit\n",
    "!pip3 show matplotlib"
   ],
   "execution_count": 4,
   "outputs": [
    {
     "name": "stdout",
     "text": [
      "Name: dippykit\r\nVersion: 2.0.2\r\nSummary: A Python Package for Digital Image Processing Education\r\nHome-page: https://github.com/dippykit/dippykit\r\nAuthor: Brighton Ancelin\r\nAuthor-email: bancelin3@gatech.edu\r\nLicense: UNKNOWN\r\nLocation: /usr/local/lib/python3.7/site-packages\r\nRequires: matplotlib, scipy, numpy, scikit-image, Pillow, opencv-python\r\nRequired-by: \r\n",
      "Name: matplotlib\r\nVersion: 3.1.1\r\nSummary: Python plotting package\r\nHome-page: https://matplotlib.org\r\nAuthor: John D. Hunter, Michael Droettboom\r\nAuthor-email: matplotlib-users@python.org\r\nLicense: PSF\r\nLocation: /usr/local/lib/python3.7/site-packages\r\nRequires: pyparsing, cycler, numpy, kiwisolver, python-dateutil\r\nRequired-by: scikit-image, matplotlib-venn, dippykit\r\n"
     ],
     "output_type": "stream"
    }
   ]
  },
  {
   "cell_type": "code",
   "metadata": {
    "id": "dmRxgbUpte_6",
    "colab_type": "code",
    "colab": {
     "base_uri": "https://localhost:8080/",
     "height": 477
    },
    "outputId": "5f8923fd-e858-4da7-d51e-23ea8f7bf972",
    "pycharm": {
     "is_executing": false
    }
   },
   "source": [
    "import matplotlib\n",
    "matplotlib.use(\"TkAgg\")\n",
    "import matplotlib as plt"
   ],
   "execution_count": 10,
   "outputs": []
  },
  {
   "cell_type": "code",
   "metadata": {
    "id": "5rb6DCNAsKbG",
    "colab_type": "code",
    "colab": {
     "base_uri": "https://localhost:8080/",
     "height": 443
    },
    "outputId": "dff648a5-a359-4e4d-d19e-35506c62f2d3",
    "pycharm": {
     "is_executing": false
    }
   },
   "source": [
    "import dippykit as dip"
   ],
   "execution_count": 6,
   "outputs": []
  },
  {
   "cell_type": "code",
   "metadata": {
    "id": "tt1rYiSrc3Np",
    "colab_type": "code",
    "outputId": "80a0eedd-8f3e-487a-b559-b693ac1f7e73",
    "colab": {
     "base_uri": "https://localhost:8080/",
     "height": 511
    },
    "pycharm": {
     "is_executing": false
    }
   },
   "source": [
    "# import the necessary packages\n",
    "from skimage.segmentation import slic\n",
    "from skimage.segmentation import mark_boundaries\n",
    "from skimage.util import img_as_float\n",
    "\n",
    "import matplotlib as plt\n",
    "import dippykit as dip\n",
    "import cv2\n",
    "import numpy as np"
   ],
   "execution_count": 7,
   "outputs": []
  },
  {
   "cell_type": "code",
   "metadata": {
    "id": "Tpw4NElkbEk0",
    "colab_type": "code",
    "outputId": "d4e8403d-38e8-442e-d937-34b2cad52a0e",
    "colab": {
     "base_uri": "https://localhost:8080/",
     "height": 232
    },
    "pycharm": {
     "is_executing": false
    }
   },
   "source": [
    "\n",
    "\n",
    "# This does almost the same thing as the super_pix.py, except it changes some parameters and performs normalization of\n",
    "# the RGB vector mu_super_pix and position vector ctr_super_pix. I'm doing this in order to get some better results.\n",
    "# The paper does not mention anything about normalization, but the results are really bad if we just implement what they\n",
    "# wrote. Also note that it takes quite a lot of time to execute.\n",
    "\n",
    "# Function for normalizing an array along its columns\n",
    "def norm_array(X, x_min = 0, x_max = 1):\n",
    "    nom = (X-X.min(axis=0))*(x_max-x_min)\n",
    "    denom = X.max(axis=0) - X.min(axis=0)\n",
    "    return x_min + nom/denom\n",
    "\n",
    "#Read the input image\n",
    "X_f = dip.imread('tiger.jpg')\n",
    "\n",
    "dip.figure(1)\n",
    "# display the input image\n",
    "dip.imshow(X_f)\n",
    "plt.savefig('p1.png',dpi=300,bbox_inches='tight',pad_inches=0.1)\n",
    "\n",
    "# Calculate the superpixels. The output of slic is an image with the pixel values as superpixel indices. The size\n",
    "# of the image is same as the input image.\n",
    "super_pixels = slic(X_f, n_segments = 500, sigma = 5)\n",
    "\n",
    "# This is to visualize the boundaries of superpixels\n",
    "dip.figure(2)\n",
    "dip.imshow(mark_boundaries(X_f, super_pixels))\n",
    "plt.savefig('p2.png',dpi=300,bbox_inches='tight',pad_inches=0.1)\n",
    "\n",
    "# Get the number of superpixels\n",
    "num_super_pix = len(np.unique(super_pixels))\n",
    "\n",
    "# We will calculate the centre of each superpixel and its corresponding mean RGB value. They will be stored in arrays\n",
    "# ctr_super_pix and mu_super_pix.\n",
    "ctr_super_pix = np.zeros((num_super_pix, 2))\n",
    "mu_super_pix = np.zeros((num_super_pix, 3))\n",
    "\n",
    "# Recover the shape of the input image\n",
    "(size_M, size_N, num_channels) = X_f.shape\n",
    "\n",
    "for n in range(num_super_pix):\n",
    "    temp_pix_x = []\n",
    "    temp_pix_y = []\n",
    "\n",
    "    temp_S_r = []\n",
    "    temp_S_g = []\n",
    "    temp_S_b = []\n",
    "\n",
    "    for i in range(size_M):\n",
    "        for j in range(size_N):\n",
    "            if super_pixels[i][j] == n:\n",
    "                temp_pix_x.append(i)\n",
    "                temp_pix_y.append(j)\n",
    "\n",
    "                temp_S_r.append(X_f[i][j][0])\n",
    "                temp_S_g.append(X_f[i][j][1])\n",
    "                temp_S_b.append(X_f[i][j][2])\n",
    "\n",
    "    ctr_super_pix[n, 0] = np.mean(np.asarray(temp_pix_x))\n",
    "    ctr_super_pix[n, 1] = np.mean(np.asarray(temp_pix_y))\n",
    "\n",
    "    mu_super_pix[n, 0] = np.mean(np.asarray(temp_S_r))\n",
    "    mu_super_pix[n, 1] = np.mean(np.asarray(temp_S_g))\n",
    "    mu_super_pix[n, 2] = np.mean(np.asarray(temp_S_b))\n",
    "\n",
    "# Normalize these arrays using norm_array function\n",
    "mu_super_pix = norm_array(mu_super_pix)\n",
    "ctr_super_pix = norm_array(ctr_super_pix, 0, 10)\n",
    "\n",
    "# Calculate the color contrast prior, G_s[i]\n",
    "G_s = np.zeros((num_super_pix, 1))\n",
    "\n",
    "gamma_i = 1\n",
    "delta = 0.5\n",
    "\n",
    "for i in range(num_super_pix):\n",
    "    for j in range(num_super_pix):\n",
    "        diff_mu = np.subtract(mu_super_pix[i][:3], mu_super_pix[j][:3])\n",
    "        diff_p = np.subtract(ctr_super_pix[i][:2], ctr_super_pix[j][:2])\n",
    "\n",
    "        temp_S = np.square(np.linalg.norm(diff_mu)) * np.exp(-(1/(2 * np.square(delta))) * np.linalg.norm(diff_p))\n",
    "\n",
    "        G_s[i] = G_s[i] + temp_S\n",
    "\n",
    "    G_s[i] = (1/gamma_i) * G_s[i]\n",
    "\n",
    "# Normalize G_s\n",
    "G_s = norm_array(G_s)\n",
    "\n",
    "# Visualize G_s as an image ( just for display purposes)\n",
    "G_s_img = np.zeros((size_M, size_N))\n",
    "\n",
    "for n in range(num_super_pix):\n",
    "    for i in range(size_M):\n",
    "        for j in range(size_N):\n",
    "            if super_pixels[i][j] == n:\n",
    "                G_s_img[i][j] = G_s[n]\n",
    "dip.figure(3)\n",
    "dip.imshow(G_s_img, 'gray')\n",
    "plt.savefig('p3.png',dpi=300,bbox_inches='tight',pad_inches=0.1)\n",
    "\n",
    "# Get the binary version of G_s according to the threshold thresh_G\n",
    "G_s_bin = np.zeros((num_super_pix, 1))\n",
    "thresh_G = 0.5\n",
    "\n",
    "for i in range(num_super_pix):\n",
    "    if G_s[i] < thresh_G:\n",
    "        G_s_bin[i] = 0\n",
    "    else:\n",
    "        G_s_bin[i] = 1\n",
    "\n",
    "# Map these binary values to a binary version of the original image, using the array super_pixels. Let this be\n",
    "# img_G_s_bin\n",
    "img_G_s_bin = np.zeros((size_M, size_N))\n",
    "\n",
    "for n in range(num_super_pix):\n",
    "    for i in range(size_M):\n",
    "        for j in range(size_N):\n",
    "            if super_pixels[i][j] == n:\n",
    "                img_G_s_bin[i][j] = G_s_bin[n]\n",
    "dip.figure(4)\n",
    "dip.imshow(img_G_s_bin, 'gray')\n",
    "# dip.show()\n",
    "plt.savefig('p4.png',dpi=300,bbox_inches='tight',pad_inches=0.1)\n",
    "# We need to follow a similar process to find I_s[i] and O_s[i]. All we need to do is replace the mu_super_pix with a\n",
    "# different feature, such as intensity in case of I_s[i]. For U_s[i], we need to just penalize the distance of from the\n",
    "# superpixel from centre of the image, so something like e^{-w[P'_s[i] - P_c]^2} should work."
   ],
   "execution_count": 11,
   "outputs": [
    {
     "traceback": [
      "\u001b[0;31m---------------------------------------------------------------------------\u001b[0m",
      "\u001b[0;31mAttributeError\u001b[0m                            Traceback (most recent call last)",
      "\u001b[0;32m<ipython-input-11-1d9fdc6b2a15>\u001b[0m in \u001b[0;36m<module>\u001b[0;34m\u001b[0m\n\u001b[1;32m     16\u001b[0m \u001b[0;31m# display the input image\u001b[0m\u001b[0;34m\u001b[0m\u001b[0;34m\u001b[0m\u001b[0;34m\u001b[0m\u001b[0m\n\u001b[1;32m     17\u001b[0m \u001b[0mdip\u001b[0m\u001b[0;34m.\u001b[0m\u001b[0mimshow\u001b[0m\u001b[0;34m(\u001b[0m\u001b[0mX_f\u001b[0m\u001b[0;34m)\u001b[0m\u001b[0;34m\u001b[0m\u001b[0;34m\u001b[0m\u001b[0m\n\u001b[0;32m---> 18\u001b[0;31m \u001b[0mplt\u001b[0m\u001b[0;34m.\u001b[0m\u001b[0msavefig\u001b[0m\u001b[0;34m(\u001b[0m\u001b[0;34m'p1.png'\u001b[0m\u001b[0;34m,\u001b[0m\u001b[0mdpi\u001b[0m\u001b[0;34m=\u001b[0m\u001b[0;36m300\u001b[0m\u001b[0;34m,\u001b[0m\u001b[0mbbox_inches\u001b[0m\u001b[0;34m=\u001b[0m\u001b[0;34m'tight'\u001b[0m\u001b[0;34m,\u001b[0m\u001b[0mpad_inches\u001b[0m\u001b[0;34m=\u001b[0m\u001b[0;36m0.1\u001b[0m\u001b[0;34m)\u001b[0m\u001b[0;34m\u001b[0m\u001b[0;34m\u001b[0m\u001b[0m\n\u001b[0m\u001b[1;32m     19\u001b[0m \u001b[0;34m\u001b[0m\u001b[0m\n\u001b[1;32m     20\u001b[0m \u001b[0;31m# Calculate the superpixels. The output of slic is an image with the pixel values as superpixel indices. The size\u001b[0m\u001b[0;34m\u001b[0m\u001b[0;34m\u001b[0m\u001b[0;34m\u001b[0m\u001b[0m\n",
      "\u001b[0;31mAttributeError\u001b[0m: module 'matplotlib' has no attribute 'savefig'"
     ],
     "ename": "AttributeError",
     "evalue": "module 'matplotlib' has no attribute 'savefig'",
     "output_type": "error"
    }
   ]
  }
 ]
}